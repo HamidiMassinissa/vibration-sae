{
 "cells": [
  {
   "cell_type": "code",
   "execution_count": 2,
   "metadata": {},
   "outputs": [],
   "source": [
    "import numpy as np"
   ]
  },
  {
   "cell_type": "code",
   "execution_count": 10,
   "metadata": {},
   "outputs": [],
   "source": [
    "enc = np.load('../_experiments/2019-02-15 02:06:06.646010/encodings70.npy')"
   ]
  },
  {
   "cell_type": "code",
   "execution_count": 11,
   "metadata": {},
   "outputs": [
    {
     "data": {
      "text/plain": [
       "array([[[ 0.9854279 ,  0.98568386, -0.9961921 , -0.9853697 ,\n",
       "         -0.99649614,  0.9913799 , -0.9912567 ,  0.9932842 ,\n",
       "         -0.99599075, -0.9953836 , -0.98940945, -0.99570876,\n",
       "          0.99252295, -0.9911297 , -0.9938185 ,  0.9942226 ,\n",
       "         -0.9917796 , -0.99493694, -0.9920401 , -0.9930721 ]]],\n",
       "      dtype=float32)"
      ]
     },
     "execution_count": 11,
     "metadata": {},
     "output_type": "execute_result"
    }
   ],
   "source": [
    "enc"
   ]
  },
  {
   "cell_type": "code",
   "execution_count": 7,
   "metadata": {},
   "outputs": [],
   "source": [
    "enc = np.load('../_experiments/2019-02-14 ')"
   ]
  },
  {
   "cell_type": "code",
   "execution_count": 8,
   "metadata": {},
   "outputs": [
    {
     "data": {
      "text/plain": [
       "array([11.630313], dtype=float32)"
      ]
     },
     "execution_count": 8,
     "metadata": {},
     "output_type": "execute_result"
    }
   ],
   "source": [
    "enc"
   ]
  },
  {
   "cell_type": "code",
   "execution_count": 13,
   "metadata": {},
   "outputs": [],
   "source": [
    "enc = np.load('../_experiments/2019-02-15 02:06:06.646010/encodings70.npy')"
   ]
  },
  {
   "cell_type": "code",
   "execution_count": 14,
   "metadata": {},
   "outputs": [
    {
     "data": {
      "text/plain": [
       "array([[[ 0.9854279 ,  0.98568386, -0.9961921 , -0.9853697 ,\n",
       "         -0.99649614,  0.9913799 , -0.9912567 ,  0.9932842 ,\n",
       "         -0.99599075, -0.9953836 , -0.98940945, -0.99570876,\n",
       "          0.99252295, -0.9911297 , -0.9938185 ,  0.9942226 ,\n",
       "         -0.9917796 , -0.99493694, -0.9920401 , -0.9930721 ]]],\n",
       "      dtype=float32)"
      ]
     },
     "execution_count": 14,
     "metadata": {},
     "output_type": "execute_result"
    }
   ],
   "source": [
    "enc"
   ]
  },
  {
   "cell_type": "code",
   "execution_count": null,
   "metadata": {},
   "outputs": [],
   "source": []
  }
 ],
 "metadata": {
  "kernelspec": {
   "display_name": "Python 3",
   "language": "python",
   "name": "python3"
  },
  "language_info": {
   "codemirror_mode": {
    "name": "ipython",
    "version": 3
   },
   "file_extension": ".py",
   "mimetype": "text/x-python",
   "name": "python",
   "nbconvert_exporter": "python",
   "pygments_lexer": "ipython3",
   "version": "3.6.7"
  }
 },
 "nbformat": 4,
 "nbformat_minor": 2
}
