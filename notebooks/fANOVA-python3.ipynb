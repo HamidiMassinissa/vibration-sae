{
 "cells": [
  {
   "cell_type": "code",
   "execution_count": 1,
   "metadata": {},
   "outputs": [
    {
     "name": "stdout",
     "output_type": "stream",
     "text": [
      "Using matplotlib backend: TkAgg\n"
     ]
    }
   ],
   "source": [
    "# IMPORTANT: This part requires python 3 kernel\n",
    "%matplotlib\n",
    "import numpy as np\n",
    "import matplotlib.pyplot as plt\n",
    "plt.rcParams['svg.fonttype'] = 'none'\n",
    "from cycler import cycler\n",
    "\n",
    "# fANOVA functional analysis\n",
    "from fanova import fANOVA\n",
    "import fanova.visualizer\n",
    "\n",
    "# configuration space\n",
    "from smac.configspace import ConfigurationSpace\n",
    "from ConfigSpace.hyperparameters import UniformIntegerHyperparameter, UniformFloatHyperparameter\n",
    "\n",
    "import numpy as np\n",
    "\n",
    "import os"
   ]
  },
  {
   "cell_type": "code",
   "execution_count": 2,
   "metadata": {},
   "outputs": [],
   "source": [
    "# scikit-optimize\n",
    "import skopt\n",
    "from skopt.plots import *\n",
    "\n",
    "def objective(params):\n",
    "    pass"
   ]
  },
  {
   "cell_type": "code",
   "execution_count": 3,
   "metadata": {},
   "outputs": [],
   "source": [
    "def prepare_bayesopt_data(bayesOpt_res):\n",
    "    \"\"\"\n",
    "    Synopsis\n",
    "    ========\n",
    "     Mise en forme des données retournées par la procédure d'optimisation\n",
    "     Bayesienne afin d'être exploitées par dans le cadriciel fANOVA.\n",
    "    \n",
    "    Arguments\n",
    "    =========\n",
    "     BayesOpt_res   structure retournée par scikit-optimize\n",
    "     \n",
    "    Returns\n",
    "    =======\n",
    "     X  of shape (num_runs, num_hyperparams) containing in each row the\n",
    "         values of the hyperparameters used in a particular run of the\n",
    "         Bayesian optimization procedure.\n",
    "     y  of shape (num_runs) containing the recognition performance of each\n",
    "         run of the Bayesian optimization procedure with the corresponding\n",
    "         set of hyper-parameters.\n",
    "    \"\"\"\n",
    "    x_iters = bayesOpt_res.x_iters\n",
    "    func_vals = bayesOpt_res.func_vals\n",
    "    \n",
    "    X = np.array([i for i in x_iters])\n",
    "    y = np.array([i for i in func_vals])\n",
    "    \n",
    "    return X, y"
   ]
  },
  {
   "cell_type": "code",
   "execution_count": 4,
   "metadata": {},
   "outputs": [],
   "source": [
    "def store(X, y, revision_name):\n",
    "    folder_name = './fANOVA'\n",
    "    if not os.path.exists(folder_name):\n",
    "        os.makedirs(folder_name)\n",
    "        \n",
    "    np.savetxt(folder_name + '/X-' + revision_name + '.txt', X)\n",
    "    np.savetxt(folder_name + '/y-' + revision_name + '.txt', y)"
   ]
  },
  {
   "cell_type": "code",
   "execution_count": null,
   "metadata": {},
   "outputs": [],
   "source": []
  },
  {
   "cell_type": "code",
   "execution_count": 12,
   "metadata": {},
   "outputs": [],
   "source": [
    "def build_fANOVA(revision_name, hyperparm_list, space):\n",
    "    \"\"\"\n",
    "    Synopsis\n",
    "    --------\n",
    "    \n",
    "    Arguments\n",
    "    ---------\n",
    "     revision_name   name of the current considered revision\n",
    "     hyperparm_list  list of the hyper-parameters as used in the Bayesian\n",
    "                      Optimisation procedure\n",
    "     space           list of Hyperparameter objects\n",
    "     \n",
    "    Returns\n",
    "    -------\n",
    "     f               fANOVA object\n",
    "     config_space    ConfigurationSpace object containing the Hyperparameter\n",
    "                      objects\n",
    "    \"\"\"\n",
    "\n",
    "    config_space = ConfigurationSpace()\n",
    "    config_space.add_hyperparameters(space)\n",
    "    \n",
    "    # get the correspondance between hyperparams in space and config_space\n",
    "    old_permutation = hyperparm_list\n",
    "    permutation = config_space.get_hyperparameter_names()\n",
    "    mapping = [old_permutation.index(val) for val in permutation]\n",
    "    print(mapping)\n",
    "\n",
    "    X = np.loadtxt('./fANOVA/X-' + revision_name + '.txt')\n",
    "    y = np.loadtxt('./fANOVA/y-' + revision_name + '.txt')\n",
    "    \n",
    "    # Re-arrange features matrix X in order to match config_space.hyperparmeters order, using the mapping\n",
    "    X = X[:, mapping]\n",
    "\n",
    "    f = fANOVA(X, y, config_space=config_space)\n",
    "    \n",
    "    return f, config_space"
   ]
  },
  {
   "cell_type": "code",
   "execution_count": null,
   "metadata": {
    "scrolled": false
   },
   "outputs": [],
   "source": []
  },
  {
   "cell_type": "code",
   "execution_count": null,
   "metadata": {},
   "outputs": [],
   "source": []
  },
  {
   "cell_type": "code",
   "execution_count": 8,
   "metadata": {},
   "outputs": [],
   "source": [
    "hyperparm_list = [\n",
    "    \"n_hidden\",\n",
    "    \"temperature\",\n",
    "]\n",
    "space = [\n",
    "    UniformIntegerHyperparameter(\"n_hidden\", 1, 10, default_value=7),\n",
    "    UniformFloatHyperparameter(\"temperature\", 1e-1, 5e-1, default_value=0.5),\n",
    "]"
   ]
  },
  {
   "cell_type": "code",
   "execution_count": 9,
   "metadata": {},
   "outputs": [],
   "source": [
    "revision_name = 'acc2__'"
   ]
  },
  {
   "cell_type": "code",
   "execution_count": 14,
   "metadata": {},
   "outputs": [],
   "source": [
    "res = skopt.load('../experiments/bayesOptResults.0.1.sav')\n",
    "X, y = prepare_bayesopt_data(res)\n",
    "store(X, y, revision_name)"
   ]
  },
  {
   "cell_type": "code",
   "execution_count": 15,
   "metadata": {},
   "outputs": [
    {
     "name": "stdout",
     "output_type": "stream",
     "text": [
      "[0, 1]\n"
     ]
    }
   ],
   "source": [
    "folder_name = './fANOVA/plots/' + revision_name\n",
    "if not os.path.exists(folder_name):\n",
    "    os.makedirs(folder_name)\n",
    "\n",
    "f, config_space = build_fANOVA(revision_name, hyperparm_list, space)\n",
    "v = fanova.visualizer.Visualizer(f, config_space, folder_name)"
   ]
  },
  {
   "cell_type": "code",
   "execution_count": 16,
   "metadata": {},
   "outputs": [
    {
     "data": {
      "text/plain": [
       "['n_hidden', 'temperature']"
      ]
     },
     "execution_count": 16,
     "metadata": {},
     "output_type": "execute_result"
    }
   ],
   "source": [
    "config_space.get_hyperparameter_names()"
   ]
  },
  {
   "cell_type": "code",
   "execution_count": 17,
   "metadata": {
    "scrolled": true
   },
   "outputs": [
    {
     "data": {
      "text/plain": [
       "OrderedDict([(('n_hidden', 'temperature'), 0.06423761476177718)])"
      ]
     },
     "execution_count": 17,
     "metadata": {},
     "output_type": "execute_result"
    }
   ],
   "source": [
    "f.get_most_important_pairwise_marginals()"
   ]
  },
  {
   "cell_type": "code",
   "execution_count": null,
   "metadata": {},
   "outputs": [],
   "source": []
  },
  {
   "cell_type": "code",
   "execution_count": 18,
   "metadata": {},
   "outputs": [
    {
     "data": {
      "text/plain": [
       "{('n_hidden',): {'individual importance': 0.8887539745693009,\n",
       "  'total importance': 0.8887539745693009,\n",
       "  'individual std': 0.1496826592059107,\n",
       "  'total std': 0.1496826592059107}}"
      ]
     },
     "execution_count": 18,
     "metadata": {},
     "output_type": "execute_result"
    }
   ],
   "source": [
    "f.quantify_importance(('n_hidden', ))"
   ]
  },
  {
   "cell_type": "code",
   "execution_count": 19,
   "metadata": {},
   "outputs": [
    {
     "name": "stderr",
     "output_type": "stream",
     "text": [
      "INFO:fanova.visualizer.Visualizer:creating ./fANOVA/plots/acc2__/n_hidden.png\n",
      "INFO:fanova.visualizer.Visualizer:creating ./fANOVA/plots/acc2__/temperature.png\n",
      "INFO:fanova.visualizer.Visualizer:creating ./fANOVA/plots/acc2__/n_hidden_temperature.png\n",
      "INFO:fanova.visualizer.Visualizer:creating ./fANOVA/plots/acc2__/interactive_plots\n"
     ]
    }
   ],
   "source": [
    "v.create_all_plots()"
   ]
  },
  {
   "cell_type": "code",
   "execution_count": null,
   "metadata": {},
   "outputs": [],
   "source": []
  },
  {
   "cell_type": "code",
   "execution_count": 36,
   "metadata": {},
   "outputs": [],
   "source": [
    "x = []\n",
    "y = []\n",
    "for hp in config_space.get_hyperparameter_names():\n",
    "    s = f.quantify_importance((hp,))\n",
    "    # print(s)\n",
    "    for k, v in s.items():\n",
    "        x.append(k[0])\n",
    "        y.append(v['total importance'])\n",
    "\n",
    "#colors = plt.cm.viridis(np.linspace(0, 1, 12))\n",
    "#colors = [\n",
    "#    colors[0]\n",
    "#    , colors[2], colors[2], colors[2]\n",
    "#    , colors[4], colors[4], colors[4]\n",
    "#    , colors[6], colors[6], colors[6]\n",
    "#    , colors[8], colors[8], colors[8]\n",
    "#    , colors[10], colors[10], colors[10]\n",
    "#    , colors[11], colors[11], colors[11]\n",
    "#    , colors[9], colors[9], colors[9]\n",
    "#    , colors[7]\n",
    "#    , colors[5]\n",
    "#    , colors[3]\n",
    "#    , colors[1]\n",
    "#]\n",
    "\n",
    "N = 3\n",
    "ind = np.arange(N)  # the x locations for the groups\n",
    "width = 0.27       # the width of the bars\n",
    "\n",
    "fig = plt.figure(figsize=(20, 5))\n",
    "plt.bar(x, np.array(y)*100, log=True)  # , color=colors)\n",
    "#plt.bar(x[0], y[0]*100, log=True, color='b')\n",
    "#plt.bar(ind, y[1:4], log=True, color='r')\n",
    "#plt.bar(ind+width, y[4:7], log=True, color='r')\n",
    "\n",
    "# custumization\n",
    "plt.xticks(rotation=70)\n",
    "plt.ylabel('\\% effect on performance variance')\n",
    "plt.suptitle('Hyper-parameters importance over all experiments')\n",
    "fig.savefig(\"./fANOVA-master/plots/all-in-all-allExperimentsAndBranches/hyperparamsImportance_overAllExperiments-Atempt2.svg\", format=\"svg\")"
   ]
  },
  {
   "cell_type": "code",
   "execution_count": null,
   "metadata": {},
   "outputs": [],
   "source": []
  },
  {
   "cell_type": "code",
   "execution_count": 9,
   "metadata": {},
   "outputs": [],
   "source": [
    "# %matplotlib\n",
    "# plt = v.plot_pairwise_marginal([0, 4])\n",
    "# plt.show()"
   ]
  },
  {
   "cell_type": "code",
   "execution_count": null,
   "metadata": {},
   "outputs": [],
   "source": []
  },
  {
   "cell_type": "code",
   "execution_count": 10,
   "metadata": {},
   "outputs": [],
   "source": [
    "# %matplotlib inline\n",
    "# plt = v.plot_pairwise_marginal([2, 3])\n",
    "# plt.show()"
   ]
  },
  {
   "cell_type": "code",
   "execution_count": null,
   "metadata": {},
   "outputs": [],
   "source": []
  },
  {
   "cell_type": "markdown",
   "metadata": {},
   "source": [
    "# Excluding parts of the parameters space where the prediction is not within the provided curoffs"
   ]
  },
  {
   "cell_type": "code",
   "execution_count": 4,
   "metadata": {},
   "outputs": [
    {
     "name": "stdout",
     "output_type": "stream",
     "text": [
      "[25, 2, 3, 4, 5, 6, 7, 8, 9, 10, 11, 12, 13, 14, 15, 16, 17, 18, 19, 20, 21, 22, 0, 1, 24, 23]\n"
     ]
    }
   ],
   "source": [
    "revision_name = 'all-in-all-allExperimentsAndBranches'\n",
    "folder_name = './fANOVA-master/plots/' + revision_name\n",
    "if not os.path.exists(folder_name):\n",
    "    os.makedirs(folder_name)\n",
    "\n",
    "f, config_space = build_fANOVA(revision_name, hyperparm_list, space)\n",
    "v = fanova.visualizer.Visualizer(f, config_space, folder_name)"
   ]
  },
  {
   "cell_type": "code",
   "execution_count": null,
   "metadata": {},
   "outputs": [],
   "source": []
  },
  {
   "cell_type": "code",
   "execution_count": 5,
   "metadata": {},
   "outputs": [
    {
     "name": "stdout",
     "output_type": "stream",
     "text": [
      "[25, 2, 3, 4, 5, 6, 7, 8, 9, 10, 11, 12, 13, 14, 15, 16, 17, 18, 19, 20, 21, 22, 0, 1, 24, 23]\n"
     ]
    }
   ],
   "source": [
    "revision_name = 'all-in-all-allExperimentsAndBranches'\n",
    "folder_name = './fANOVA-master/plots/' + revision_name\n",
    "if not os.path.exists(folder_name):\n",
    "    os.makedirs(folder_name)\n",
    "\n",
    "f_quantile, config_space = build_fANOVA(revision_name, hyperparm_list, space)\n",
    "f_quantile.set_cutoffs(quantile=(10,25))\n",
    "v_bis = fanova.visualizer.Visualizer(f_quantile, config_space, folder_name)"
   ]
  },
  {
   "cell_type": "code",
   "execution_count": null,
   "metadata": {},
   "outputs": [],
   "source": []
  },
  {
   "cell_type": "code",
   "execution_count": 6,
   "metadata": {},
   "outputs": [
    {
     "name": "stdout",
     "output_type": "stream",
     "text": [
      "[25, 2, 3, 4, 5, 6, 7, 8, 9, 10, 11, 12, 13, 14, 15, 16, 17, 18, 19, 20, 21, 22, 0, 1, 24, 23]\n"
     ]
    }
   ],
   "source": [
    "revision_name = 'all-in-all-allExperimentsAndBranches'\n",
    "folder_name = './fANOVA-master/plots/' + revision_name\n",
    "if not os.path.exists(folder_name):\n",
    "    os.makedirs(folder_name)\n",
    "\n",
    "f_cutoffs_1, config_space = build_fANOVA(revision_name, hyperparm_list, space)\n",
    "f_cutoffs_1.set_cutoffs(cutoffs=(-np.inf,-0.50))\n",
    "v_bis = fanova.visualizer.Visualizer(f_cutoffs_1, config_space, folder_name)"
   ]
  },
  {
   "cell_type": "code",
   "execution_count": null,
   "metadata": {},
   "outputs": [],
   "source": []
  },
  {
   "cell_type": "code",
   "execution_count": 7,
   "metadata": {},
   "outputs": [
    {
     "name": "stdout",
     "output_type": "stream",
     "text": [
      "[25, 2, 3, 4, 5, 6, 7, 8, 9, 10, 11, 12, 13, 14, 15, 16, 17, 18, 19, 20, 21, 22, 0, 1, 24, 23]\n"
     ]
    }
   ],
   "source": [
    "revision_name = 'all-in-all-allExperimentsAndBranches'\n",
    "folder_name = './fANOVA-master/plots/' + revision_name\n",
    "if not os.path.exists(folder_name):\n",
    "    os.makedirs(folder_name)\n",
    "\n",
    "f_cutoffs_2, config_space = build_fANOVA(revision_name, hyperparm_list, space)\n",
    "f_cutoffs_2.set_cutoffs(cutoffs=(-0.50, 0))\n",
    "v_bis = fanova.visualizer.Visualizer(f_cutoffs_2, config_space, folder_name)"
   ]
  },
  {
   "cell_type": "code",
   "execution_count": null,
   "metadata": {},
   "outputs": [],
   "source": []
  },
  {
   "cell_type": "code",
   "execution_count": 8,
   "metadata": {},
   "outputs": [
    {
     "name": "stdout",
     "output_type": "stream",
     "text": [
      "[25, 2, 3, 4, 5, 6, 7, 8, 9, 10, 11, 12, 13, 14, 15, 16, 17, 18, 19, 20, 21, 22, 0, 1, 24, 23]\n"
     ]
    }
   ],
   "source": [
    "revision_name = 'all-in-all-allExperimentsAndBranches'\n",
    "folder_name = './fANOVA-master/plots/' + revision_name\n",
    "if not os.path.exists(folder_name):\n",
    "    os.makedirs(folder_name)\n",
    "\n",
    "f_cutoffs_3, config_space = build_fANOVA(revision_name, hyperparm_list, space)\n",
    "f_cutoffs_3.set_cutoffs(cutoffs=(-0.50, 0))\n",
    "v_bis = fanova.visualizer.Visualizer(f_cutoffs_3, config_space, folder_name)"
   ]
  },
  {
   "cell_type": "code",
   "execution_count": null,
   "metadata": {},
   "outputs": [],
   "source": []
  },
  {
   "cell_type": "code",
   "execution_count": 9,
   "metadata": {},
   "outputs": [
    {
     "name": "stdout",
     "output_type": "stream",
     "text": [
      "[25, 2, 3, 4, 5, 6, 7, 8, 9, 10, 11, 12, 13, 14, 15, 16, 17, 18, 19, 20, 21, 22, 0, 1, 24, 23]\n"
     ]
    }
   ],
   "source": [
    "revision_name = 'all-in-all-allExperimentsAndBranches'\n",
    "folder_name = './fANOVA-master/plots/' + revision_name\n",
    "if not os.path.exists(folder_name):\n",
    "    os.makedirs(folder_name)\n",
    "\n",
    "f_cutoffs_4, config_space = build_fANOVA(revision_name, hyperparm_list, space)\n",
    "f_cutoffs_4.set_cutoffs(cutoffs=(-0.50, 0))\n",
    "v_bis = fanova.visualizer.Visualizer(f_cutoffs_4, config_space, folder_name)"
   ]
  },
  {
   "cell_type": "code",
   "execution_count": null,
   "metadata": {},
   "outputs": [],
   "source": []
  },
  {
   "cell_type": "code",
   "execution_count": null,
   "metadata": {},
   "outputs": [],
   "source": []
  },
  {
   "cell_type": "code",
   "execution_count": 10,
   "metadata": {},
   "outputs": [],
   "source": [
    "x = []\n",
    "y = []\n",
    "x_quantile = []\n",
    "y_quantile = []\n",
    "x_cutoffs_1 = []\n",
    "y_cutoffs_1 = []\n",
    "x_cutoffs_2 = []\n",
    "y_cutoffs_2 = []\n",
    "x_cutoffs_3 = []\n",
    "y_cutoffs_3 = []\n",
    "x_cutoffs_4 = []\n",
    "y_cutoffs_4 = []\n",
    "\n",
    "for hp in config_space.get_hyperparameter_names():\n",
    "    s = f.quantify_importance((hp,))\n",
    "    s_quantile = f_quantile.quantify_importance((hp,))\n",
    "    s_cutoffs_1 = f_cutoffs_1.quantify_importance((hp,))\n",
    "    s_cutoffs_2 = f_cutoffs_2.quantify_importance((hp,))\n",
    "    s_cutoffs_3 = f_cutoffs_3.quantify_importance((hp,))\n",
    "    s_cutoffs_4 = f_cutoffs_4.quantify_importance((hp,))\n",
    "    # print(s)\n",
    "    \n",
    "    for k, v in s.items():\n",
    "        x.append(k[0])\n",
    "        y.append(v['total importance'])\n",
    "    \n",
    "    for k, v in s_quantile.items():\n",
    "        x_quantile.append(k[0])\n",
    "        y_quantile.append(v['total importance'])\n",
    "    \n",
    "    for k, v in s_cutoffs_1.items():\n",
    "        x_cutoffs_1.append(k[0])\n",
    "        y_cutoffs_1.append(v['total importance'])\n",
    "        \n",
    "    for k, v in s_cutoffs_2.items():\n",
    "        x_cutoffs_2.append(k[0])\n",
    "        y_cutoffs_2.append(v['total importance'])\n",
    "\n",
    "    for k, v in s_cutoffs_3.items():\n",
    "        x_cutoffs_3.append(k[0])\n",
    "        y_cutoffs_3.append(v['total importance'])\n",
    "        \n",
    "    for k, v in s_cutoffs_4.items():\n",
    "        x_cutoffs_4.append(k[0])\n",
    "        y_cutoffs_4.append(v['total importance'])"
   ]
  },
  {
   "cell_type": "code",
   "execution_count": null,
   "metadata": {},
   "outputs": [],
   "source": []
  },
  {
   "cell_type": "code",
   "execution_count": 8,
   "metadata": {},
   "outputs": [],
   "source": [
    "N = 3\n",
    "ind = np.arange(N)  # the x locations for the groups\n",
    "width = 0.27       # the width of the bars\n",
    "\n",
    "fig = plt.figure(figsize=(20, 5))\n",
    "plt.bar(x, np.array(y)*100, log=True, color='b')\n",
    "plt.bar(x, np.array(y_quantile)*100, log=True, bottom=np.array(y)*100, color='r')\n",
    "plt.bar(x, np.array(y_cutoffs)*100, log=True, bottom=(np.array(y) + np.array(y_quantile))*100, color='g')\n",
    "\n",
    "# custumization\n",
    "plt.xticks(rotation=70)\n",
    "plt.ylabel('\\% effect on performance variance')\n",
    "plt.suptitle('Hyper-parameters importance over all experiments')\n",
    "fig.savefig(\"./fANOVA-master/plots/all-in-all-allExperimentsAndBranches/hyperparamsImportance_overAllExperiments-Atempt2.svg\",\n",
    "            format=\"svg\")"
   ]
  },
  {
   "cell_type": "code",
   "execution_count": 33,
   "metadata": {},
   "outputs": [],
   "source": [
    "N = 3\n",
    "ind = np.arange(N)  # the x locations for the groups\n",
    "width = 0.27       # the width of the bars\n",
    "\n",
    "fig = plt.figure(figsize=(20, 5))\n",
    "plt.grid(which='both', axis='y', linestyle='--', zorder=0)\n",
    "\n",
    "plt.bar(x[1:22], np.array(y[1:22])*100, log=True)\n",
    "#plt.bar(x, np.array(y_quantile)*100, log=True, bottom=np.array(y)*100, color='r')\n",
    "plt.bar(x[1:22], np.array(y_cutoffs[1:22])*100, log=True, bottom=np.array(y[1:22])*100)\n",
    "\n",
    "# custumization\n",
    "plt.xticks(rotation=70)\n",
    "plt.ylabel('\\% effect on performance variance')\n",
    "plt.suptitle('Hyper-parameters importance over all experiments')\n",
    "fig.savefig(\"./fANOVA-master/plots/all-in-all-allExperimentsAndBranches/hyperparamsImportance_overAllExperiments-Atempt2-toto.svg\",\n",
    "            format=\"svg\")"
   ]
  },
  {
   "cell_type": "code",
   "execution_count": 16,
   "metadata": {},
   "outputs": [],
   "source": [
    "N = 3\n",
    "ind = np.arange(N)  # the x locations for the groups\n",
    "width = 0.27       # the width of the bars\n",
    "\n",
    "fig = plt.figure(figsize=(20, 5))\n",
    "plt.grid(which='both', axis='y', linestyle='--', zorder=0)\n",
    "\n",
    "plt.bar(x[1:22], np.array(y[1:22])*100, log=True)\n",
    "#plt.bar(x, np.array(y_quantile)*100, log=True, bottom=np.array(y)*100, color='r')\n",
    "plt.bar(x[1:22], np.array(y_cutoffs_4[1:22])*100, log=True, bottom=np.array(y[1:22])*100)\n",
    "\n",
    "# custumization\n",
    "plt.xticks(rotation=70)\n",
    "plt.ylabel('\\% effect on performance variance')\n",
    "plt.suptitle('Hyper-parameters importance over all experiments --- Models performing b/w 0.50 to np.inf')\n",
    "fig.savefig(\"./fANOVA-master/plots/all-in-all-allExperimentsAndBranches/hyperparamsImportance_overAllExperiments-50-INF.svg\",\n",
    "            format=\"svg\")"
   ]
  },
  {
   "cell_type": "code",
   "execution_count": null,
   "metadata": {},
   "outputs": [],
   "source": []
  }
 ],
 "metadata": {
  "kernelspec": {
   "display_name": "Python 3",
   "language": "python",
   "name": "python3"
  },
  "language_info": {
   "codemirror_mode": {
    "name": "ipython",
    "version": 3
   },
   "file_extension": ".py",
   "mimetype": "text/x-python",
   "name": "python",
   "nbconvert_exporter": "python",
   "pygments_lexer": "ipython3",
   "version": "3.6.6"
  }
 },
 "nbformat": 4,
 "nbformat_minor": 2
}
